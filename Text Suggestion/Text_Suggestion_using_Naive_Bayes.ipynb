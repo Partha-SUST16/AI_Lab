{
  "nbformat": 4,
  "nbformat_minor": 0,
  "metadata": {
    "colab": {
      "name": "Text_Suggestion_using_Naive_Bayes.ipynb",
      "provenance": [],
      "collapsed_sections": [],
      "authorship_tag": "ABX9TyNjjeQX6JlhhUXGq0h8b7Xg",
      "include_colab_link": true
    },
    "kernelspec": {
      "name": "python3",
      "display_name": "Python 3"
    }
  },
  "cells": [
    {
      "cell_type": "markdown",
      "metadata": {
        "id": "view-in-github",
        "colab_type": "text"
      },
      "source": [
        "<a href=\"https://colab.research.google.com/github/Partha-SUST16/AI_Lab/blob/main/Text%20Suggestion/Text_Suggestion_using_Naive_Bayes.ipynb\" target=\"_parent\"><img src=\"https://colab.research.google.com/assets/colab-badge.svg\" alt=\"Open In Colab\"/></a>"
      ]
    },
    {
      "cell_type": "code",
      "metadata": {
        "id": "TTy3LO_z25We"
      },
      "source": [
        "#import Libraries\r\n",
        "import nltk\r\n",
        "from nltk import bigrams,trigrams \r\n",
        "from nltk.corpus import reuters\r\n",
        "from collections import Counter, defaultdict\r\n",
        "from gensim.test.utils import datapath\r\n",
        "from gensim.corpora import WikiCorpus"
      ],
      "execution_count": 47,
      "outputs": []
    },
    {
      "cell_type": "code",
      "metadata": {
        "colab": {
          "base_uri": "https://localhost:8080/"
        },
        "id": "Zm_k2afW5Nyj",
        "outputId": "e0f92516-f468-4ad1-e1ac-bf536a34e285"
      },
      "source": [
        "# get wiki datasets\r\n",
        "pathForWikiDataset = datapath('enwiki-latest-pages-articles1.xml-p000000010p000030302-shortened.bz2')\r\n",
        "wikiSentences = WikiCorpus(pathForWikiDataset).get_texts()\r\n",
        "print(wikiSentences)"
      ],
      "execution_count": 48,
      "outputs": [
        {
          "output_type": "stream",
          "text": [
            "<generator object WikiCorpus.get_texts at 0x7f3e658b5fc0>\n"
          ],
          "name": "stdout"
        }
      ]
    },
    {
      "cell_type": "code",
      "metadata": {
        "colab": {
          "base_uri": "https://localhost:8080/"
        },
        "id": "ZoTspkpv33Ar",
        "outputId": "74335a76-a198-47c2-85d9-c347cc65c0c0"
      },
      "source": [
        "# get Reuters DataSet\r\n",
        "nltk.download('punkt')\r\n",
        "nltk.download('reuters')\r\n",
        "reutersSentences  = reuters.sents()\r\n",
        "print(reutersSentences)"
      ],
      "execution_count": 49,
      "outputs": [
        {
          "output_type": "stream",
          "text": [
            "[nltk_data] Downloading package punkt to /root/nltk_data...\n",
            "[nltk_data]   Package punkt is already up-to-date!\n",
            "[nltk_data] Downloading package reuters to /root/nltk_data...\n",
            "[nltk_data]   Package reuters is already up-to-date!\n",
            "[['ASIAN', 'EXPORTERS', 'FEAR', 'DAMAGE', 'FROM', 'U', '.', 'S', '.-', 'JAPAN', 'RIFT', 'Mounting', 'trade', 'friction', 'between', 'the', 'U', '.', 'S', '.', 'And', 'Japan', 'has', 'raised', 'fears', 'among', 'many', 'of', 'Asia', \"'\", 's', 'exporting', 'nations', 'that', 'the', 'row', 'could', 'inflict', 'far', '-', 'reaching', 'economic', 'damage', ',', 'businessmen', 'and', 'officials', 'said', '.'], ['They', 'told', 'Reuter', 'correspondents', 'in', 'Asian', 'capitals', 'a', 'U', '.', 'S', '.', 'Move', 'against', 'Japan', 'might', 'boost', 'protectionist', 'sentiment', 'in', 'the', 'U', '.', 'S', '.', 'And', 'lead', 'to', 'curbs', 'on', 'American', 'imports', 'of', 'their', 'products', '.'], ...]\n"
          ],
          "name": "stdout"
        }
      ]
    },
    {
      "cell_type": "markdown",
      "metadata": {
        "id": "brekxuRXES5r"
      },
      "source": [
        "## Create Sentence Model and Calculate Probability"
      ]
    },
    {
      "cell_type": "code",
      "metadata": {
        "id": "dYiPLWkJ5LLC"
      },
      "source": [
        "def calculateProbabilities(sentenceModel):\r\n",
        "  for nextWord in sentenceModel:\r\n",
        "    nextWords = sentenceModel[nextWord]\r\n",
        "    total_Word_Count = float(sum(nextWords.values()))\r\n",
        "    for previousWord in nextWords:\r\n",
        "      nextWords[previousWord]/=total_Word_Count"
      ],
      "execution_count": 59,
      "outputs": []
    },
    {
      "cell_type": "code",
      "metadata": {
        "id": "3AX3rDys7WrA"
      },
      "source": [
        "def calculateSigleWordProbability(sentenceModel,wordCount):\r\n",
        "  for word in sentenceModel:\r\n",
        "    sentenceModel[word]/=wordCount\r\n"
      ],
      "execution_count": 51,
      "outputs": []
    },
    {
      "cell_type": "code",
      "metadata": {
        "id": "OVs8rqB48HVk"
      },
      "source": [
        "def convertToLower(pa):\r\n",
        "  if type(pa)==str:\r\n",
        "    return pa.lower()\r\n",
        "  return pa"
      ],
      "execution_count": 52,
      "outputs": []
    },
    {
      "cell_type": "code",
      "metadata": {
        "id": "D6xSAaQm8Y-n"
      },
      "source": [
        "sentenceModel4 = defaultdict(lambda: set())\r\n",
        "sentenceModel5 = defaultdict(lambda: set())\r\n",
        "\r\n",
        "def calculateWordCount(sentenceModel1,sentenceModel2,sentenceModel3,sentences):\r\n",
        "  wordCount = 0\r\n",
        "  for sentence in sentences:\r\n",
        "    #print(sentence)\r\n",
        "    for word in sentence:\r\n",
        "      wordCount+=1\r\n",
        "      sentenceModel1[word]+=1\r\n",
        "    for previousWord2,previousWord1,nextWord in trigrams(sentence,pad_right=True,pad_left=True):\r\n",
        "      previousWord1 = convertToLower(previousWord1)\r\n",
        "      previousWord2 = convertToLower(previousWord2)\r\n",
        "      # print(previousWord1)\r\n",
        "      # print(previousWord2)\r\n",
        "      nextWord = convertToLower(nextWord)\r\n",
        "      sentenceModel2[nextWord][previousWord1]+=1\r\n",
        "      sentenceModel3[nextWord][previousWord2]+=1\r\n",
        "      sentenceModel4[previousWord1].add(nextWord)\r\n",
        "      sentenceModel5[previousWord2].add(nextWord)\r\n",
        "\r\n",
        "  return wordCount"
      ],
      "execution_count": 53,
      "outputs": []
    },
    {
      "cell_type": "code",
      "metadata": {
        "id": "aNar2zyp-uXc"
      },
      "source": [
        "sentenceModel1 = defaultdict(lambda:0)\r\n",
        "sentenceModel2 = defaultdict(lambda: defaultdict(lambda:0))\r\n",
        "sentenceModel3 = defaultdict(lambda: defaultdict(lambda:0))\r\n"
      ],
      "execution_count": 54,
      "outputs": []
    },
    {
      "cell_type": "code",
      "metadata": {
        "colab": {
          "base_uri": "https://localhost:8080/"
        },
        "id": "SSSJb0JV_dDu",
        "outputId": "68e32957-f382-453d-b166-ebd16335e43d"
      },
      "source": [
        "wikiWordCount = calculateWordCount(sentenceModel1,sentenceModel2,sentenceModel3,wikiSentences)\r\n",
        "print(wikiWordCount)"
      ],
      "execution_count": 55,
      "outputs": [
        {
          "output_type": "stream",
          "text": [
            "452944\n"
          ],
          "name": "stdout"
        }
      ]
    },
    {
      "cell_type": "code",
      "metadata": {
        "colab": {
          "base_uri": "https://localhost:8080/"
        },
        "id": "DtevReCqBAFD",
        "outputId": "784e1f52-bff7-4b5d-bcad-84a6ed4d54e7"
      },
      "source": [
        "reutersWordCount = calculateWordCount(sentenceModel1,sentenceModel2,sentenceModel3,reutersSentences)\r\n",
        "print(reutersWordCount)"
      ],
      "execution_count": 57,
      "outputs": [
        {
          "output_type": "stream",
          "text": [
            "1720917\n"
          ],
          "name": "stdout"
        }
      ]
    },
    {
      "cell_type": "code",
      "metadata": {
        "id": "wXo3YhbsBj5R"
      },
      "source": [
        "calculateProbabilities(sentenceModel2)"
      ],
      "execution_count": 60,
      "outputs": []
    },
    {
      "cell_type": "code",
      "metadata": {
        "id": "Jk63eEzlB879"
      },
      "source": [
        "calculateProbabilities(sentenceModel3)"
      ],
      "execution_count": 61,
      "outputs": []
    },
    {
      "cell_type": "code",
      "metadata": {
        "id": "17D5r5YJCX-_"
      },
      "source": [
        "total_word = wikiWordCount + reutersWordCount\r\n",
        "calculateSigleWordProbability(sentenceModel1,total_word)"
      ],
      "execution_count": 62,
      "outputs": []
    },
    {
      "cell_type": "markdown",
      "metadata": {
        "id": "boO9fhbAEdxz"
      },
      "source": [
        "## Naive Bias"
      ]
    },
    {
      "cell_type": "code",
      "metadata": {
        "id": "KgD3x3ftCkRC"
      },
      "source": [
        "maxProbabilityWords = []\r\n",
        "def makeWordSuggestionByTrigram(previousWord2,previousWord1):\r\n",
        "  for nextWord in sentenceModel4[previousWord1] & sentenceModel5[previousWord2]:\r\n",
        "    naiveBiasTrigramWeight = sentenceModel1[nextWord]*sentenceModel2[nextWord][previousWord1]*sentenceModel3[nextWord][previousWord2]\r\n",
        "    maxProbabilityWords.append((nextWord,naiveBiasTrigramWeight))"
      ],
      "execution_count": 65,
      "outputs": []
    },
    {
      "cell_type": "code",
      "metadata": {
        "colab": {
          "base_uri": "https://localhost:8080/"
        },
        "id": "AxtxOFcoEK-o",
        "outputId": "cbfe87b1-b0e5-4159-c7b7-43406a763c13"
      },
      "source": [
        "makeWordSuggestionByTrigram('my','name')\r\n",
        "maxProbabilityWords.sort(key=lambda o:o[1],reverse=True)\r\n",
        "print(*maxProbabilityWords[:10])"
      ],
      "execution_count": 66,
      "outputs": [
        {
          "output_type": "stream",
          "text": [
            "('is', 6.312802951590447e-08) ('to', 2.3040750252019746e-09) (',', 1.118876979391946e-09) ('for', 5.523960654537554e-10) ('in', 4.657943430020126e-10) ('and', 3.770658245232208e-10) ('will', 3.324564975158133e-10) ('that', 2.4438966373356113e-10) ('would', 2.3203292613177524e-10) ('at', 2.1806795838226355e-10)\n"
          ],
          "name": "stdout"
        }
      ]
    },
    {
      "cell_type": "code",
      "metadata": {
        "colab": {
          "base_uri": "https://localhost:8080/"
        },
        "id": "UIQRnCbeF4BF",
        "outputId": "7dfeb64d-0f3c-4666-ecc3-4b095888c202"
      },
      "source": [
        "#Input only two words \r\n",
        "while(True):\r\n",
        "    text = input(\"Enter your line: \")\r\n",
        "    if text == \"stop\":\r\n",
        "        print(\"Ending The Program.....\")\r\n",
        "        break\r\n",
        "    \r\n",
        "    else:\r\n",
        "        try:\r\n",
        "            maxProbabilityWords = []\r\n",
        "            text = text.split(\" \")\r\n",
        "            makeWordSuggestionByTrigram(text[0],text[1])\r\n",
        "            maxProbabilityWords.sort(key=lambda o:o[1],reverse=True)\r\n",
        "            print(*maxProbabilityWords[:10])\r\n",
        "            \r\n",
        "        except:\r\n",
        "            continue"
      ],
      "execution_count": 71,
      "outputs": [
        {
          "output_type": "stream",
          "text": [
            "Enter your line: i hate\n",
            "('it', 3.904520837343442e-09) ('to', 3.560843220766688e-10) ('and', 2.7422969056234244e-11)\n",
            "Enter your line: what is \n",
            "('now', 1.1189113303911986e-06) ('happening', 9.813568270157722e-07) ('called', 6.245913076367109e-07) ('really', 5.125836998252024e-07) ('termed', 4.870704839967988e-07) ('aesthetically', 3.6800881013091455e-07) ('thought', 3.6000861860632945e-07) ('going', 3.3605255655523216e-07) ('viewed', 3.0667400844242877e-07) ('required', 2.784303957544125e-07)\n",
            "Enter your line: my name\n",
            "('is', 6.312802951590447e-08) ('to', 2.3040750252019746e-09) (',', 1.118876979391946e-09) ('for', 5.523960654537554e-10) ('in', 4.657943430020126e-10) ('and', 3.770658245232208e-10) ('will', 3.324564975158133e-10) ('that', 2.4438966373356113e-10) ('would', 2.3203292613177524e-10) ('at', 2.1806795838226355e-10)\n",
            "Enter your line: you are\n",
            "('not', 2.3005177223427501e-07) ('re', 1.3925936869318837e-07) ('going', 1.2812003718668224e-07) ('still', 1.0018504367421032e-07) ('certainly', 8.692883004738475e-08) ('normally', 6.344673496421777e-08) ('trying', 4.962689669436681e-08) ('simply', 3.886877651226621e-08) ('your', 3.35708234093783e-08) ('bound', 3.1945209212752994e-08)\n",
            "Enter your line: stop\n",
            "Ending The Program.....\n"
          ],
          "name": "stdout"
        }
      ]
    }
  ]
}